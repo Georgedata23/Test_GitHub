{
 "cells": [
  {
   "cell_type": "code",
   "execution_count": 5,
   "id": "982167dc",
   "metadata": {},
   "outputs": [
    {
     "name": "stdout",
     "output_type": "stream",
     "text": [
      "Requirement already satisfied: sweetviz in c:\\users\\0727g\\saved games\\for_anaconda\\lib\\site-packages (2.1.4)\n",
      "Requirement already satisfied: importlib-resources>=1.2.0 in c:\\users\\0727g\\saved games\\for_anaconda\\lib\\site-packages (from sweetviz) (5.10.1)\n",
      "Requirement already satisfied: numpy>=1.16.0 in c:\\users\\0727g\\saved games\\for_anaconda\\lib\\site-packages (from sweetviz) (1.20.1)\n",
      "Requirement already satisfied: matplotlib>=3.1.3 in c:\\users\\0727g\\saved games\\for_anaconda\\lib\\site-packages (from sweetviz) (3.3.4)\n",
      "Requirement already satisfied: jinja2>=2.11.1 in c:\\users\\0727g\\saved games\\for_anaconda\\lib\\site-packages (from sweetviz) (2.11.3)\n",
      "Requirement already satisfied: scipy>=1.3.2 in c:\\users\\0727g\\saved games\\for_anaconda\\lib\\site-packages (from sweetviz) (1.6.2)\n",
      "Requirement already satisfied: pandas!=1.0.0,!=1.0.1,!=1.0.2,>=0.25.3 in c:\\users\\0727g\\saved games\\for_anaconda\\lib\\site-packages (from sweetviz) (1.2.4)\n",
      "Requirement already satisfied: tqdm>=4.43.0 in c:\\users\\0727g\\saved games\\for_anaconda\\lib\\site-packages (from sweetviz) (4.59.0)\n",
      "Requirement already satisfied: zipp>=3.1.0 in c:\\users\\0727g\\saved games\\for_anaconda\\lib\\site-packages (from importlib-resources>=1.2.0->sweetviz) (3.4.1)\n",
      "Requirement already satisfied: MarkupSafe>=0.23 in c:\\users\\0727g\\saved games\\for_anaconda\\lib\\site-packages (from jinja2>=2.11.1->sweetviz) (1.1.1)\n",
      "Requirement already satisfied: pyparsing!=2.0.4,!=2.1.2,!=2.1.6,>=2.0.3 in c:\\users\\0727g\\saved games\\for_anaconda\\lib\\site-packages (from matplotlib>=3.1.3->sweetviz) (2.4.7)\n",
      "Requirement already satisfied: pillow>=6.2.0 in c:\\users\\0727g\\saved games\\for_anaconda\\lib\\site-packages (from matplotlib>=3.1.3->sweetviz) (8.2.0)\n",
      "Requirement already satisfied: python-dateutil>=2.1 in c:\\users\\0727g\\saved games\\for_anaconda\\lib\\site-packages (from matplotlib>=3.1.3->sweetviz) (2.8.1)\n",
      "Requirement already satisfied: kiwisolver>=1.0.1 in c:\\users\\0727g\\saved games\\for_anaconda\\lib\\site-packages (from matplotlib>=3.1.3->sweetviz) (1.3.1)\n",
      "Requirement already satisfied: cycler>=0.10 in c:\\users\\0727g\\saved games\\for_anaconda\\lib\\site-packages (from matplotlib>=3.1.3->sweetviz) (0.10.0)\n",
      "Requirement already satisfied: six in c:\\users\\0727g\\saved games\\for_anaconda\\lib\\site-packages (from cycler>=0.10->matplotlib>=3.1.3->sweetviz) (1.15.0)\n",
      "Requirement already satisfied: pytz>=2017.3 in c:\\users\\0727g\\saved games\\for_anaconda\\lib\\site-packages (from pandas!=1.0.0,!=1.0.1,!=1.0.2,>=0.25.3->sweetviz) (2021.1)\n",
      "Collecting Random-Word-Generator\n",
      "  Downloading Random_Word_Generator-1.3-py3-none-any.whl (4.5 kB)\n",
      "Installing collected packages: Random-Word-Generator\n",
      "Successfully installed Random-Word-Generator-1.3\n"
     ]
    }
   ],
   "source": [
    "import pandas as pd\n",
    "import matplotlib.pyplot as plt\n",
    "import seaborn as sns\n",
    "from pandas_profiling import ProfileReport\n",
    "!pip install sweetviz\n",
    "!pip install Random-Word-Generator\n",
    "import sweetviz as sv\n",
    "import glob\n",
    "import os\n"
   ]
  },
  {
   "cell_type": "code",
   "execution_count": 10,
   "id": "965056cf",
   "metadata": {},
   "outputs": [
    {
     "name": "stdout",
     "output_type": "stream",
     "text": [
      "[]\n"
     ]
    }
   ],
   "source": [
    "csv_files = glob.glob(os.path.join('c:Users/0727G/Desktop/Проекты/American_football/Dataframes', '*.csv'))\n",
    "\n",
    "print(csv_files)\n",
    "\n",
    "\n",
    "    "
   ]
  },
  {
   "cell_type": "code",
   "execution_count": null,
   "id": "3a940728",
   "metadata": {},
   "outputs": [],
   "source": []
  }
 ],
 "metadata": {
  "kernelspec": {
   "display_name": "Python 3",
   "language": "python",
   "name": "python3"
  },
  "language_info": {
   "codemirror_mode": {
    "name": "ipython",
    "version": 3
   },
   "file_extension": ".py",
   "mimetype": "text/x-python",
   "name": "python",
   "nbconvert_exporter": "python",
   "pygments_lexer": "ipython3",
   "version": "3.8.8"
  }
 },
 "nbformat": 4,
 "nbformat_minor": 5
}
