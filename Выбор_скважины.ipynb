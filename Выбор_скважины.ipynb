{
 "cells": [
  {
   "cell_type": "markdown",
   "id": "66878333",
   "metadata": {},
   "source": [
    "# Выбор лучшего региона для скважин"
   ]
  },
  {
   "cell_type": "markdown",
   "id": "553723e7",
   "metadata": {},
   "source": [
    "### Описание проекта"
   ]
  },
  {
   "cell_type": "markdown",
   "id": "c51490f9",
   "metadata": {},
   "source": [
    "Для нефтедобывающей компании необходимо определить, в каком районе бурить новую скважину. Предоставлены данные о характеристиках различных скважин и запасах нефти.\n",
    "Также даны следующие условия:\n",
    "1. Для обучения модели подходит только линейная регрессия (остальные — недостаточно предсказуемые).\n",
    "2. При разведке региона исследуют 500 точек, из которых с помощью машинного обучения выбирают 200 лучших для разработки.\n",
    "3. Бюджет на разработку скважин в регионе — 10 млрд рублей.\n",
    "4. При нынешних ценах один баррель сырья приносит 450 рублей дохода. Доход с каждой единицы продукта составляет 450 тыс. рублей, поскольку объём указан в тысячах баррелей.\n",
    "5. После оценки рисков нужно оставить лишь те регионы, в которых вероятность убытков меньше 2.5%. Среди них выбирают регион с наибольшей средней прибылью."
   ]
  },
  {
   "cell_type": "markdown",
   "id": "f10e6746",
   "metadata": {},
   "source": [
    "### Ход работы"
   ]
  },
  {
   "cell_type": "markdown",
   "id": "7ca2d7f1",
   "metadata": {},
   "source": [
    "1. Загрузка данных, предобработка и разведочный анализ.\n",
    "2. Разбивка на выборки, масштабирование, обучение моделей\n",
    "3. Расчет необходимых значений\n",
    "4. Функции прибыли и bootstrap, расчет прибыли и рисков\n",
    "5. Вывод"
   ]
  },
  {
   "cell_type": "markdown",
   "id": "43769521",
   "metadata": {},
   "source": [
    "## 1. Загрузка данных, предобработка и разведочный анализ."
   ]
  },
  {
   "cell_type": "markdown",
   "id": "876e6610",
   "metadata": {},
   "source": [
    "Загрузим необходимые библиотеки и модули"
   ]
  },
  {
   "cell_type": "code",
   "execution_count": 1,
   "id": "257c75de",
   "metadata": {},
   "outputs": [],
   "source": [
    "import pandas as pd\n",
    "import matplotlib.pyplot as plt\n",
    "import seaborn as sns\n",
    "import numpy as np\n",
    "import scipy.stats as st\n",
    "from sklearn.model_selection import train_test_split\n",
    "from sklearn.linear_model import LinearRegression\n",
    "from sklearn.metrics import mean_squared_error\n",
    "from sklearn.preprocessing import StandardScaler\n"
   ]
  },
  {
   "cell_type": "markdown",
   "id": "0922ebcd",
   "metadata": {},
   "source": [
    "Откроем исходные данные. Всего у нас три таблицы."
   ]
  },
  {
   "cell_type": "code",
   "execution_count": 2,
   "id": "b1663dfd",
   "metadata": {},
   "outputs": [],
   "source": [
    "try:\n",
    "    df_0 = pd.read_csv(r'C:\\Users\\0727G\\Desktop\\Проекты\\Нефтедобыча\\geo_data_0.csv')\n",
    "    df_1 = pd.read_csv(r'C:\\Users\\0727G\\Desktop\\Проекты\\Нефтедобыча\\geo_data_1.csv')\n",
    "    df_2 = pd.read_csv(r'C:\\Users\\0727G\\Desktop\\Проекты\\Нефтедобыча\\geo_data_2.csv')\n",
    "except:\n",
    "    df_0 = pd.read_csv(r'/datasets/geo_data_0.csv')\n",
    "    df_0 = pd.read_csv(r'/datasets/geo_data_1.csv')\n",
    "    df_0 = pd.read_csv(r'/datasets/geo_data_2.csv')"
   ]
  },
  {
   "cell_type": "markdown",
   "id": "981e1043",
   "metadata": {},
   "source": [
    "Посмотрим с чем имеем дело."
   ]
  },
  {
   "cell_type": "code",
   "execution_count": 3,
   "id": "faf182be",
   "metadata": {},
   "outputs": [
    {
     "data": {
      "text/html": [
       "<div>\n",
       "<style scoped>\n",
       "    .dataframe tbody tr th:only-of-type {\n",
       "        vertical-align: middle;\n",
       "    }\n",
       "\n",
       "    .dataframe tbody tr th {\n",
       "        vertical-align: top;\n",
       "    }\n",
       "\n",
       "    .dataframe thead th {\n",
       "        text-align: right;\n",
       "    }\n",
       "</style>\n",
       "<table border=\"1\" class=\"dataframe\">\n",
       "  <thead>\n",
       "    <tr style=\"text-align: right;\">\n",
       "      <th></th>\n",
       "      <th>id</th>\n",
       "      <th>f0</th>\n",
       "      <th>f1</th>\n",
       "      <th>f2</th>\n",
       "      <th>product</th>\n",
       "    </tr>\n",
       "  </thead>\n",
       "  <tbody>\n",
       "    <tr>\n",
       "      <th>0</th>\n",
       "      <td>txEyH</td>\n",
       "      <td>0.705745</td>\n",
       "      <td>-0.497823</td>\n",
       "      <td>1.221170</td>\n",
       "      <td>105.280062</td>\n",
       "    </tr>\n",
       "    <tr>\n",
       "      <th>1</th>\n",
       "      <td>2acmU</td>\n",
       "      <td>1.334711</td>\n",
       "      <td>-0.340164</td>\n",
       "      <td>4.365080</td>\n",
       "      <td>73.037750</td>\n",
       "    </tr>\n",
       "    <tr>\n",
       "      <th>2</th>\n",
       "      <td>409Wp</td>\n",
       "      <td>1.022732</td>\n",
       "      <td>0.151990</td>\n",
       "      <td>1.419926</td>\n",
       "      <td>85.265647</td>\n",
       "    </tr>\n",
       "    <tr>\n",
       "      <th>3</th>\n",
       "      <td>iJLyR</td>\n",
       "      <td>-0.032172</td>\n",
       "      <td>0.139033</td>\n",
       "      <td>2.978566</td>\n",
       "      <td>168.620776</td>\n",
       "    </tr>\n",
       "    <tr>\n",
       "      <th>4</th>\n",
       "      <td>Xdl7t</td>\n",
       "      <td>1.988431</td>\n",
       "      <td>0.155413</td>\n",
       "      <td>4.751769</td>\n",
       "      <td>154.036647</td>\n",
       "    </tr>\n",
       "    <tr>\n",
       "      <th>...</th>\n",
       "      <td>...</td>\n",
       "      <td>...</td>\n",
       "      <td>...</td>\n",
       "      <td>...</td>\n",
       "      <td>...</td>\n",
       "    </tr>\n",
       "    <tr>\n",
       "      <th>99995</th>\n",
       "      <td>DLsed</td>\n",
       "      <td>0.971957</td>\n",
       "      <td>0.370953</td>\n",
       "      <td>6.075346</td>\n",
       "      <td>110.744026</td>\n",
       "    </tr>\n",
       "    <tr>\n",
       "      <th>99996</th>\n",
       "      <td>QKivN</td>\n",
       "      <td>1.392429</td>\n",
       "      <td>-0.382606</td>\n",
       "      <td>1.273912</td>\n",
       "      <td>122.346843</td>\n",
       "    </tr>\n",
       "    <tr>\n",
       "      <th>99997</th>\n",
       "      <td>3rnvd</td>\n",
       "      <td>1.029585</td>\n",
       "      <td>0.018787</td>\n",
       "      <td>-1.348308</td>\n",
       "      <td>64.375443</td>\n",
       "    </tr>\n",
       "    <tr>\n",
       "      <th>99998</th>\n",
       "      <td>7kl59</td>\n",
       "      <td>0.998163</td>\n",
       "      <td>-0.528582</td>\n",
       "      <td>1.583869</td>\n",
       "      <td>74.040764</td>\n",
       "    </tr>\n",
       "    <tr>\n",
       "      <th>99999</th>\n",
       "      <td>1CWhH</td>\n",
       "      <td>1.764754</td>\n",
       "      <td>-0.266417</td>\n",
       "      <td>5.722849</td>\n",
       "      <td>149.633246</td>\n",
       "    </tr>\n",
       "  </tbody>\n",
       "</table>\n",
       "<p>100000 rows × 5 columns</p>\n",
       "</div>"
      ],
      "text/plain": [
       "          id        f0        f1        f2     product\n",
       "0      txEyH  0.705745 -0.497823  1.221170  105.280062\n",
       "1      2acmU  1.334711 -0.340164  4.365080   73.037750\n",
       "2      409Wp  1.022732  0.151990  1.419926   85.265647\n",
       "3      iJLyR -0.032172  0.139033  2.978566  168.620776\n",
       "4      Xdl7t  1.988431  0.155413  4.751769  154.036647\n",
       "...      ...       ...       ...       ...         ...\n",
       "99995  DLsed  0.971957  0.370953  6.075346  110.744026\n",
       "99996  QKivN  1.392429 -0.382606  1.273912  122.346843\n",
       "99997  3rnvd  1.029585  0.018787 -1.348308   64.375443\n",
       "99998  7kl59  0.998163 -0.528582  1.583869   74.040764\n",
       "99999  1CWhH  1.764754 -0.266417  5.722849  149.633246\n",
       "\n",
       "[100000 rows x 5 columns]"
      ]
     },
     "metadata": {},
     "output_type": "display_data"
    },
    {
     "data": {
      "text/html": [
       "<div>\n",
       "<style scoped>\n",
       "    .dataframe tbody tr th:only-of-type {\n",
       "        vertical-align: middle;\n",
       "    }\n",
       "\n",
       "    .dataframe tbody tr th {\n",
       "        vertical-align: top;\n",
       "    }\n",
       "\n",
       "    .dataframe thead th {\n",
       "        text-align: right;\n",
       "    }\n",
       "</style>\n",
       "<table border=\"1\" class=\"dataframe\">\n",
       "  <thead>\n",
       "    <tr style=\"text-align: right;\">\n",
       "      <th></th>\n",
       "      <th>id</th>\n",
       "      <th>f0</th>\n",
       "      <th>f1</th>\n",
       "      <th>f2</th>\n",
       "      <th>product</th>\n",
       "    </tr>\n",
       "  </thead>\n",
       "  <tbody>\n",
       "    <tr>\n",
       "      <th>0</th>\n",
       "      <td>kBEdx</td>\n",
       "      <td>-15.001348</td>\n",
       "      <td>-8.276000</td>\n",
       "      <td>-0.005876</td>\n",
       "      <td>3.179103</td>\n",
       "    </tr>\n",
       "    <tr>\n",
       "      <th>1</th>\n",
       "      <td>62mP7</td>\n",
       "      <td>14.272088</td>\n",
       "      <td>-3.475083</td>\n",
       "      <td>0.999183</td>\n",
       "      <td>26.953261</td>\n",
       "    </tr>\n",
       "    <tr>\n",
       "      <th>2</th>\n",
       "      <td>vyE1P</td>\n",
       "      <td>6.263187</td>\n",
       "      <td>-5.948386</td>\n",
       "      <td>5.001160</td>\n",
       "      <td>134.766305</td>\n",
       "    </tr>\n",
       "    <tr>\n",
       "      <th>3</th>\n",
       "      <td>KcrkZ</td>\n",
       "      <td>-13.081196</td>\n",
       "      <td>-11.506057</td>\n",
       "      <td>4.999415</td>\n",
       "      <td>137.945408</td>\n",
       "    </tr>\n",
       "    <tr>\n",
       "      <th>4</th>\n",
       "      <td>AHL4O</td>\n",
       "      <td>12.702195</td>\n",
       "      <td>-8.147433</td>\n",
       "      <td>5.004363</td>\n",
       "      <td>134.766305</td>\n",
       "    </tr>\n",
       "    <tr>\n",
       "      <th>...</th>\n",
       "      <td>...</td>\n",
       "      <td>...</td>\n",
       "      <td>...</td>\n",
       "      <td>...</td>\n",
       "      <td>...</td>\n",
       "    </tr>\n",
       "    <tr>\n",
       "      <th>99995</th>\n",
       "      <td>QywKC</td>\n",
       "      <td>9.535637</td>\n",
       "      <td>-6.878139</td>\n",
       "      <td>1.998296</td>\n",
       "      <td>53.906522</td>\n",
       "    </tr>\n",
       "    <tr>\n",
       "      <th>99996</th>\n",
       "      <td>ptvty</td>\n",
       "      <td>-10.160631</td>\n",
       "      <td>-12.558096</td>\n",
       "      <td>5.005581</td>\n",
       "      <td>137.945408</td>\n",
       "    </tr>\n",
       "    <tr>\n",
       "      <th>99997</th>\n",
       "      <td>09gWa</td>\n",
       "      <td>-7.378891</td>\n",
       "      <td>-3.084104</td>\n",
       "      <td>4.998651</td>\n",
       "      <td>137.945408</td>\n",
       "    </tr>\n",
       "    <tr>\n",
       "      <th>99998</th>\n",
       "      <td>rqwUm</td>\n",
       "      <td>0.665714</td>\n",
       "      <td>-6.152593</td>\n",
       "      <td>1.000146</td>\n",
       "      <td>30.132364</td>\n",
       "    </tr>\n",
       "    <tr>\n",
       "      <th>99999</th>\n",
       "      <td>relB0</td>\n",
       "      <td>-3.426139</td>\n",
       "      <td>-7.794274</td>\n",
       "      <td>-0.003299</td>\n",
       "      <td>3.179103</td>\n",
       "    </tr>\n",
       "  </tbody>\n",
       "</table>\n",
       "<p>100000 rows × 5 columns</p>\n",
       "</div>"
      ],
      "text/plain": [
       "          id         f0         f1        f2     product\n",
       "0      kBEdx -15.001348  -8.276000 -0.005876    3.179103\n",
       "1      62mP7  14.272088  -3.475083  0.999183   26.953261\n",
       "2      vyE1P   6.263187  -5.948386  5.001160  134.766305\n",
       "3      KcrkZ -13.081196 -11.506057  4.999415  137.945408\n",
       "4      AHL4O  12.702195  -8.147433  5.004363  134.766305\n",
       "...      ...        ...        ...       ...         ...\n",
       "99995  QywKC   9.535637  -6.878139  1.998296   53.906522\n",
       "99996  ptvty -10.160631 -12.558096  5.005581  137.945408\n",
       "99997  09gWa  -7.378891  -3.084104  4.998651  137.945408\n",
       "99998  rqwUm   0.665714  -6.152593  1.000146   30.132364\n",
       "99999  relB0  -3.426139  -7.794274 -0.003299    3.179103\n",
       "\n",
       "[100000 rows x 5 columns]"
      ]
     },
     "metadata": {},
     "output_type": "display_data"
    },
    {
     "data": {
      "text/html": [
       "<div>\n",
       "<style scoped>\n",
       "    .dataframe tbody tr th:only-of-type {\n",
       "        vertical-align: middle;\n",
       "    }\n",
       "\n",
       "    .dataframe tbody tr th {\n",
       "        vertical-align: top;\n",
       "    }\n",
       "\n",
       "    .dataframe thead th {\n",
       "        text-align: right;\n",
       "    }\n",
       "</style>\n",
       "<table border=\"1\" class=\"dataframe\">\n",
       "  <thead>\n",
       "    <tr style=\"text-align: right;\">\n",
       "      <th></th>\n",
       "      <th>id</th>\n",
       "      <th>f0</th>\n",
       "      <th>f1</th>\n",
       "      <th>f2</th>\n",
       "      <th>product</th>\n",
       "    </tr>\n",
       "  </thead>\n",
       "  <tbody>\n",
       "    <tr>\n",
       "      <th>0</th>\n",
       "      <td>fwXo0</td>\n",
       "      <td>-1.146987</td>\n",
       "      <td>0.963328</td>\n",
       "      <td>-0.828965</td>\n",
       "      <td>27.758673</td>\n",
       "    </tr>\n",
       "    <tr>\n",
       "      <th>1</th>\n",
       "      <td>WJtFt</td>\n",
       "      <td>0.262778</td>\n",
       "      <td>0.269839</td>\n",
       "      <td>-2.530187</td>\n",
       "      <td>56.069697</td>\n",
       "    </tr>\n",
       "    <tr>\n",
       "      <th>2</th>\n",
       "      <td>ovLUW</td>\n",
       "      <td>0.194587</td>\n",
       "      <td>0.289035</td>\n",
       "      <td>-5.586433</td>\n",
       "      <td>62.871910</td>\n",
       "    </tr>\n",
       "    <tr>\n",
       "      <th>3</th>\n",
       "      <td>q6cA6</td>\n",
       "      <td>2.236060</td>\n",
       "      <td>-0.553760</td>\n",
       "      <td>0.930038</td>\n",
       "      <td>114.572842</td>\n",
       "    </tr>\n",
       "    <tr>\n",
       "      <th>4</th>\n",
       "      <td>WPMUX</td>\n",
       "      <td>-0.515993</td>\n",
       "      <td>1.716266</td>\n",
       "      <td>5.899011</td>\n",
       "      <td>149.600746</td>\n",
       "    </tr>\n",
       "    <tr>\n",
       "      <th>...</th>\n",
       "      <td>...</td>\n",
       "      <td>...</td>\n",
       "      <td>...</td>\n",
       "      <td>...</td>\n",
       "      <td>...</td>\n",
       "    </tr>\n",
       "    <tr>\n",
       "      <th>99995</th>\n",
       "      <td>4GxBu</td>\n",
       "      <td>-1.777037</td>\n",
       "      <td>1.125220</td>\n",
       "      <td>6.263374</td>\n",
       "      <td>172.327046</td>\n",
       "    </tr>\n",
       "    <tr>\n",
       "      <th>99996</th>\n",
       "      <td>YKFjq</td>\n",
       "      <td>-1.261523</td>\n",
       "      <td>-0.894828</td>\n",
       "      <td>2.524545</td>\n",
       "      <td>138.748846</td>\n",
       "    </tr>\n",
       "    <tr>\n",
       "      <th>99997</th>\n",
       "      <td>tKPY3</td>\n",
       "      <td>-1.199934</td>\n",
       "      <td>-2.957637</td>\n",
       "      <td>5.219411</td>\n",
       "      <td>157.080080</td>\n",
       "    </tr>\n",
       "    <tr>\n",
       "      <th>99998</th>\n",
       "      <td>nmxp2</td>\n",
       "      <td>-2.419896</td>\n",
       "      <td>2.417221</td>\n",
       "      <td>-5.548444</td>\n",
       "      <td>51.795253</td>\n",
       "    </tr>\n",
       "    <tr>\n",
       "      <th>99999</th>\n",
       "      <td>V9kWn</td>\n",
       "      <td>-2.551421</td>\n",
       "      <td>-2.025625</td>\n",
       "      <td>6.090891</td>\n",
       "      <td>102.775767</td>\n",
       "    </tr>\n",
       "  </tbody>\n",
       "</table>\n",
       "<p>100000 rows × 5 columns</p>\n",
       "</div>"
      ],
      "text/plain": [
       "          id        f0        f1        f2     product\n",
       "0      fwXo0 -1.146987  0.963328 -0.828965   27.758673\n",
       "1      WJtFt  0.262778  0.269839 -2.530187   56.069697\n",
       "2      ovLUW  0.194587  0.289035 -5.586433   62.871910\n",
       "3      q6cA6  2.236060 -0.553760  0.930038  114.572842\n",
       "4      WPMUX -0.515993  1.716266  5.899011  149.600746\n",
       "...      ...       ...       ...       ...         ...\n",
       "99995  4GxBu -1.777037  1.125220  6.263374  172.327046\n",
       "99996  YKFjq -1.261523 -0.894828  2.524545  138.748846\n",
       "99997  tKPY3 -1.199934 -2.957637  5.219411  157.080080\n",
       "99998  nmxp2 -2.419896  2.417221 -5.548444   51.795253\n",
       "99999  V9kWn -2.551421 -2.025625  6.090891  102.775767\n",
       "\n",
       "[100000 rows x 5 columns]"
      ]
     },
     "metadata": {},
     "output_type": "display_data"
    }
   ],
   "source": [
    "display(df_0)\n",
    "display(df_1)\n",
    "display(df_2)"
   ]
  },
  {
   "cell_type": "markdown",
   "id": "61874c76",
   "metadata": {},
   "source": [
    "### Первый регион "
   ]
  },
  {
   "cell_type": "code",
   "execution_count": 4,
   "id": "96cb6717",
   "metadata": {},
   "outputs": [
    {
     "name": "stdout",
     "output_type": "stream",
     "text": [
      "<class 'pandas.core.frame.DataFrame'>\n",
      "RangeIndex: 100000 entries, 0 to 99999\n",
      "Data columns (total 5 columns):\n",
      " #   Column   Non-Null Count   Dtype  \n",
      "---  ------   --------------   -----  \n",
      " 0   id       100000 non-null  object \n",
      " 1   f0       100000 non-null  float64\n",
      " 2   f1       100000 non-null  float64\n",
      " 3   f2       100000 non-null  float64\n",
      " 4   product  100000 non-null  float64\n",
      "dtypes: float64(4), object(1)\n",
      "memory usage: 3.8+ MB\n"
     ]
    }
   ],
   "source": [
    "df_0.info()"
   ]
  },
  {
   "cell_type": "markdown",
   "id": "17841dac",
   "metadata": {},
   "source": [
    "Пропусков не наблюдаем, типы данных в порядке."
   ]
  },
  {
   "cell_type": "code",
   "execution_count": 5,
   "id": "42ff0037",
   "metadata": {},
   "outputs": [
    {
     "data": {
      "text/plain": [
       "99990"
      ]
     },
     "execution_count": 5,
     "metadata": {},
     "output_type": "execute_result"
    }
   ],
   "source": [
    "df_0['id'].nunique() "
   ]
  },
  {
   "cell_type": "markdown",
   "id": "f760187e",
   "metadata": {},
   "source": [
    "В столбце id наблюдаем явные дубликаты удалим их."
   ]
  },
  {
   "cell_type": "code",
   "execution_count": 6,
   "id": "12256b9e",
   "metadata": {},
   "outputs": [],
   "source": [
    "df_0['id'] = df_0['id'].drop_duplicates()\n",
    "df_0 = df_0.dropna().reset_index(drop=True)"
   ]
  },
  {
   "cell_type": "code",
   "execution_count": 7,
   "id": "1fa9db1c",
   "metadata": {},
   "outputs": [
    {
     "data": {
      "text/html": [
       "<div>\n",
       "<style scoped>\n",
       "    .dataframe tbody tr th:only-of-type {\n",
       "        vertical-align: middle;\n",
       "    }\n",
       "\n",
       "    .dataframe tbody tr th {\n",
       "        vertical-align: top;\n",
       "    }\n",
       "\n",
       "    .dataframe thead th {\n",
       "        text-align: right;\n",
       "    }\n",
       "</style>\n",
       "<table border=\"1\" class=\"dataframe\">\n",
       "  <thead>\n",
       "    <tr style=\"text-align: right;\">\n",
       "      <th></th>\n",
       "      <th>id</th>\n",
       "      <th>f0</th>\n",
       "      <th>f1</th>\n",
       "      <th>f2</th>\n",
       "      <th>product</th>\n",
       "    </tr>\n",
       "  </thead>\n",
       "  <tbody>\n",
       "  </tbody>\n",
       "</table>\n",
       "</div>"
      ],
      "text/plain": [
       "Empty DataFrame\n",
       "Columns: [id, f0, f1, f2, product]\n",
       "Index: []"
      ]
     },
     "execution_count": 7,
     "metadata": {},
     "output_type": "execute_result"
    }
   ],
   "source": [
    "df_0.loc[df_0['id'].isna() == True]"
   ]
  },
  {
   "cell_type": "code",
   "execution_count": 8,
   "id": "94f50fda",
   "metadata": {},
   "outputs": [
    {
     "name": "stdout",
     "output_type": "stream",
     "text": [
      "<class 'pandas.core.frame.DataFrame'>\n",
      "RangeIndex: 99990 entries, 0 to 99989\n",
      "Data columns (total 5 columns):\n",
      " #   Column   Non-Null Count  Dtype  \n",
      "---  ------   --------------  -----  \n",
      " 0   id       99990 non-null  object \n",
      " 1   f0       99990 non-null  float64\n",
      " 2   f1       99990 non-null  float64\n",
      " 3   f2       99990 non-null  float64\n",
      " 4   product  99990 non-null  float64\n",
      "dtypes: float64(4), object(1)\n",
      "memory usage: 3.8+ MB\n"
     ]
    }
   ],
   "source": [
    "df_0.info()"
   ]
  },
  {
   "cell_type": "markdown",
   "id": "a74cc827",
   "metadata": {},
   "source": [
    "Дубликатов больше нет, теперь взглянем на наши признаки."
   ]
  },
  {
   "cell_type": "code",
   "execution_count": 9,
   "id": "368729d1",
   "metadata": {},
   "outputs": [
    {
     "data": {
      "text/plain": [
       "count    99990.000000\n",
       "mean         0.500454\n",
       "std          0.871844\n",
       "min         -1.408605\n",
       "25%         -0.072572\n",
       "50%          0.502405\n",
       "75%          1.073626\n",
       "max          2.362331\n",
       "Name: f0, dtype: float64"
      ]
     },
     "execution_count": 9,
     "metadata": {},
     "output_type": "execute_result"
    }
   ],
   "source": [
    "df_0['f0'].describe()"
   ]
  },
  {
   "cell_type": "code",
   "execution_count": 10,
   "id": "34fd7b08",
   "metadata": {},
   "outputs": [
    {
     "data": {
      "image/png": "[encoded data removed]",
      "text/plain": [
       "<Figure size 648x504 with 1 Axes>"
      ]
     },
     "metadata": {
      "needs_background": "light"
     },
     "output_type": "display_data"
    }
   ],
   "source": [
    "fig, ax = plt.subplots(figsize=(9, 7))\n",
    "ax.hist(df_0['f0'], bins=70, color='g')\n",
    "ax.set_title('Гистограмма нулевого признака', fontdict = {'fontsize': 20})\n",
    "ax.set_xlabel('Показатель', fontdict = {'fontsize': 17})\n",
    "ax.set_ylabel('Количество скважин', fontdict = {'fontsize': 17})\n",
    "ax.grid()\n",
    "plt.show()"
   ]
  },
  {
   "cell_type": "markdown",
   "id": "bd7d598b",
   "metadata": {},
   "source": [
    "В нулевом признаке распределение не соответсвует нормальному, наблюдается 4 пика и 4 спада, скорее всего скважины как бы разбиваются на группы по данному признаку и большинство относится к какой-либо из них. Забегая вперед скажу, что подобная картина будет встречаться и на других признаках в других регионах."
   ]
  },
  {
   "cell_type": "code",
   "execution_count": 11,
   "id": "101c11af",
   "metadata": {},
   "outputs": [
    {
     "data": {
      "text/plain": [
       "count    99990.000000\n",
       "mean         0.250141\n",
       "std          0.504430\n",
       "min         -0.848218\n",
       "25%         -0.200877\n",
       "50%          0.250252\n",
       "75%          0.700640\n",
       "max          1.343769\n",
       "Name: f1, dtype: float64"
      ]
     },
     "execution_count": 11,
     "metadata": {},
     "output_type": "execute_result"
    }
   ],
   "source": [
    "df_0['f1'].describe()"
   ]
  },
  {
   "cell_type": "code",
   "execution_count": 12,
   "id": "fa54ee51",
   "metadata": {},
   "outputs": [
    {
     "data": {
      "image/png": "[encoded data removed]",
      "text/plain": [
       "<Figure size 648x504 with 1 Axes>"
      ]
     },
     "metadata": {
      "needs_background": "light"
     },
     "output_type": "display_data"
    }
   ],
   "source": [
    "fig, ax = plt.subplots(figsize=(9, 7))\n",
    "ax.hist(df_0['f1'], bins=70, color='g')\n",
    "ax.set_title('Гистограмма первого признака', fontdict = {'fontsize': 20})\n",
    "ax.set_xlabel('Показатель', fontdict = {'fontsize': 17})\n",
    "ax.set_ylabel('Количество скважин', fontdict = {'fontsize': 17})\n",
    "ax.grid()\n",
    "plt.show()"
   ]
  },
  {
   "cell_type": "code",
   "execution_count": 13,
   "id": "e1f261a4",
   "metadata": {},
   "outputs": [
    {
     "data": {
      "text/plain": [
       "count    99990.000000\n",
       "mean         2.502629\n",
       "std          3.248149\n",
       "min        -12.088328\n",
       "25%          0.287784\n",
       "50%          2.515969\n",
       "75%          4.715035\n",
       "max         16.003790\n",
       "Name: f2, dtype: float64"
      ]
     },
     "execution_count": 13,
     "metadata": {},
     "output_type": "execute_result"
    }
   ],
   "source": [
    "df_0['f2'].describe()"
   ]
  },
  {
   "cell_type": "code",
   "execution_count": 14,
   "id": "293c8083",
   "metadata": {},
   "outputs": [
    {
     "data": {
      "image/png": "[encoded data removed]",
      "text/plain": [
       "<Figure size 648x504 with 1 Axes>"
      ]
     },
     "metadata": {
      "needs_background": "light"
     },
     "output_type": "display_data"
    }
   ],
   "source": [
    "fig, ax = plt.subplots(figsize=(9, 7))\n",
    "ax.hist(df_0['f2'], bins=70, color='g')\n",
    "ax.set_title('Гистограмма второго признака', fontdict = {'fontsize': 20})\n",
    "ax.set_xlabel('Показатель', fontdict = {'fontsize': 17})\n",
    "ax.set_ylabel('Количество скважин', fontdict = {'fontsize': 17})\n",
    "ax.grid()\n",
    "plt.show()"
   ]
  },
  {
   "cell_type": "code",
   "execution_count": 15,
   "id": "8a37bc5c",
   "metadata": {},
   "outputs": [
    {
     "data": {
      "text/plain": [
       "count    99990.000000\n",
       "mean        92.499684\n",
       "std         44.288304\n",
       "min          0.000000\n",
       "25%         56.497069\n",
       "50%         91.847928\n",
       "75%        128.563699\n",
       "max        185.364347\n",
       "Name: product, dtype: float64"
      ]
     },
     "execution_count": 15,
     "metadata": {},
     "output_type": "execute_result"
    }
   ],
   "source": [
    "df_0['product'].describe()"
   ]
  },
  {
   "cell_type": "code",
   "execution_count": 16,
   "id": "e8cf2911",
   "metadata": {},
   "outputs": [
    {
     "data": {
      "image/png": "[encoded data removed]",
      "text/plain": [
       "<Figure size 648x504 with 1 Axes>"
      ]
     },
     "metadata": {
      "needs_background": "light"
     },
     "output_type": "display_data"
    }
   ],
   "source": [
    "fig, ax = plt.subplots(figsize=(9, 7))\n",
    "ax.hist(df_0['product'], bins=77, color='g')\n",
    "ax.set_title('Гистограмма целевого признака', fontdict = {'fontsize': 20})\n",
    "ax.set_xlabel('Показатель', fontdict = {'fontsize': 17})\n",
    "ax.set_ylabel('Количество скважин', fontdict = {'fontsize': 17})\n",
    "ax.grid()\n",
    "plt.show()"
   ]
  },
  {
   "cell_type": "code",
   "execution_count": 17,
   "id": "3144dee1",
   "metadata": {},
   "outputs": [
    {
     "data": {
      "text/plain": [
       "<AxesSubplot:>"
      ]
     },
     "execution_count": 17,
     "metadata": {},
     "output_type": "execute_result"
    },
    {
     "data": {
      "image/png": "[encoded data removed]",
      "text/plain": [
       "<Figure size 648x504 with 2 Axes>"
      ]
     },
     "metadata": {
      "needs_background": "light"
     },
     "output_type": "display_data"
    }
   ],
   "source": [
    "corr_0 = df_0.corr()\n",
    "\n",
    "\n",
    "fig, ax = plt.subplots(figsize=(9, 7))\n",
    "sns.heatmap(corr_0, square=True, annot=True, linewidths=1.2, linecolor='g')\n"
   ]
  },
  {
   "cell_type": "markdown",
   "id": "afb20ebe",
   "metadata": {},
   "source": [
    "На гистограмме  запаса нефти видим ряд \"зубьев\" - значений вокруг которых распределяются величины в большей степени - этто наводит на мысль, что как и фичи, так и объем нефти зависят от конкретных значений, возможно это определенная локация внутри региона, наличие каких-либо факторов или отличие состава.\n",
    "На корреляционной матрице видим, что целевой признак лучше всего коррелирует с признаком f2 - 0.48."
   ]
  },
  {
   "cell_type": "markdown",
   "id": "28b61bea",
   "metadata": {},
   "source": [
    "### Второй регион"
   ]
  },
  {
   "cell_type": "code",
   "execution_count": 18,
   "id": "dbcf7312",
   "metadata": {},
   "outputs": [
    {
     "name": "stdout",
     "output_type": "stream",
     "text": [
      "<class 'pandas.core.frame.DataFrame'>\n",
      "RangeIndex: 100000 entries, 0 to 99999\n",
      "Data columns (total 5 columns):\n",
      " #   Column   Non-Null Count   Dtype  \n",
      "---  ------   --------------   -----  \n",
      " 0   id       100000 non-null  object \n",
      " 1   f0       100000 non-null  float64\n",
      " 2   f1       100000 non-null  float64\n",
      " 3   f2       100000 non-null  float64\n",
      " 4   product  100000 non-null  float64\n",
      "dtypes: float64(4), object(1)\n",
      "memory usage: 3.8+ MB\n"
     ]
    }
   ],
   "source": [
    "df_1.info()"
   ]
  },
  {
   "cell_type": "markdown",
   "id": "4c1b5b89",
   "metadata": {},
   "source": [
    "Пропусков не наблюдаем, типы данных в порядке"
   ]
  },
  {
   "cell_type": "code",
   "execution_count": 19,
   "id": "1efaa2ff",
   "metadata": {},
   "outputs": [
    {
     "data": {
      "text/plain": [
       "99996"
      ]
     },
     "execution_count": 19,
     "metadata": {},
     "output_type": "execute_result"
    }
   ],
   "source": [
    "df_1['id'].nunique()"
   ]
  },
  {
   "cell_type": "markdown",
   "id": "432416e7",
   "metadata": {},
   "source": [
    "В столбце id наблюдаем явные дубликаты удалим их."
   ]
  },
  {
   "cell_type": "code",
   "execution_count": 20,
   "id": "ade868d3",
   "metadata": {},
   "outputs": [],
   "source": [
    "df_1['id'] = df_1['id'].drop_duplicates()\n",
    "df_1 = df_1.dropna().reset_index(drop=True)"
   ]
  },
  {
   "cell_type": "code",
   "execution_count": 21,
   "id": "b7aa7494",
   "metadata": {},
   "outputs": [
    {
     "data": {
      "text/html": [
       "<div>\n",
       "<style scoped>\n",
       "    .dataframe tbody tr th:only-of-type {\n",
       "        vertical-align: middle;\n",
       "    }\n",
       "\n",
       "    .dataframe tbody tr th {\n",
       "        vertical-align: top;\n",
       "    }\n",
       "\n",
       "    .dataframe thead th {\n",
       "        text-align: right;\n",
       "    }\n",
       "</style>\n",
       "<table border=\"1\" class=\"dataframe\">\n",
       "  <thead>\n",
       "    <tr style=\"text-align: right;\">\n",
       "      <th></th>\n",
       "      <th>id</th>\n",
       "      <th>f0</th>\n",
       "      <th>f1</th>\n",
       "      <th>f2</th>\n",
       "      <th>product</th>\n",
       "    </tr>\n",
       "  </thead>\n",
       "  <tbody>\n",
       "  </tbody>\n",
       "</table>\n",
       "</div>"
      ],
      "text/plain": [
       "Empty DataFrame\n",
       "Columns: [id, f0, f1, f2, product]\n",
       "Index: []"
      ]
     },
     "execution_count": 21,
     "metadata": {},
     "output_type": "execute_result"
    }
   ],
   "source": [
    "df_1.loc[df_1['id'].isna() == True]"
   ]
  },
  {
   "cell_type": "code",
   "execution_count": 22,
   "id": "8e006b2e",
   "metadata": {},
   "outputs": [
    {
     "data": {
      "text/plain": [
       "99996"
      ]
     },
     "execution_count": 22,
     "metadata": {},
     "output_type": "execute_result"
    }
   ],
   "source": [
    "df_1['id'].nunique()"
   ]
  },
  {
   "cell_type": "code",
   "execution_count": 23,
   "id": "1221948d",
   "metadata": {},
   "outputs": [
    {
     "name": "stdout",
     "output_type": "stream",
     "text": [
      "<class 'pandas.core.frame.DataFrame'>\n",
      "RangeIndex: 99996 entries, 0 to 99995\n",
      "Data columns (total 5 columns):\n",
      " #   Column   Non-Null Count  Dtype  \n",
      "---  ------   --------------  -----  \n",
      " 0   id       99996 non-null  object \n",
      " 1   f0       99996 non-null  float64\n",
      " 2   f1       99996 non-null  float64\n",
      " 3   f2       99996 non-null  float64\n",
      " 4   product  99996 non-null  float64\n",
      "dtypes: float64(4), object(1)\n",
      "memory usage: 3.8+ MB\n"
     ]
    }
   ],
   "source": [
    "df_1.info()"
   ]
  },
  {
   "cell_type": "markdown",
   "id": "5ea0281f",
   "metadata": {},
   "source": [
    "Дубликатов больше нет, теперь взглянем на наши признаки."
   ]
  },
  {
   "cell_type": "code",
   "execution_count": 24,
   "id": "070c4cf6",
   "metadata": {},
   "outputs": [
    {
     "data": {
      "text/plain": [
       "count    99996.000000\n",
       "mean         1.141209\n",
       "std          8.965815\n",
       "min        -31.609576\n",
       "25%         -6.298551\n",
       "50%          1.153055\n",
       "75%          8.620964\n",
       "max         29.421755\n",
       "Name: f0, dtype: float64"
      ]
     },
     "execution_count": 24,
     "metadata": {},
     "output_type": "execute_result"
    }
   ],
   "source": [
    "df_1['f0'].describe()"
   ]
  },
  {
   "cell_type": "code",
   "execution_count": 25,
   "id": "ed8490b8",
   "metadata": {},
   "outputs": [
    {
     "data": {
      "image/png": "[encoded data removed]",
      "text/plain": [
       "<Figure size 648x504 with 1 Axes>"
      ]
     },
     "metadata": {
      "needs_background": "light"
     },
     "output_type": "display_data"
    }
   ],
   "source": [
    "fig, ax = plt.subplots(figsize=(9, 7))\n",
    "ax.hist(df_1['f0'], bins=70, color='g')\n",
    "ax.set_title('Гистограмма нулевого признака', fontdict = {'fontsize': 20})\n",
    "ax.set_xlabel('Показатель', fontdict = {'fontsize': 17})\n",
    "ax.set_ylabel('Количество скважин', fontdict = {'fontsize': 17})\n",
    "ax.grid()\n",
    "plt.show()"
   ]
  },
  {
   "cell_type": "code",
   "execution_count": 26,
   "id": "f4685767",
   "metadata": {},
   "outputs": [
    {
     "data": {
      "text/plain": [
       "count    99996.000000\n",
       "mean        -4.796608\n",
       "std          5.119906\n",
       "min        -26.358598\n",
       "25%         -8.267985\n",
       "50%         -4.813172\n",
       "75%         -1.332816\n",
       "max         18.734063\n",
       "Name: f1, dtype: float64"
      ]
     },
     "execution_count": 26,
     "metadata": {},
     "output_type": "execute_result"
    }
   ],
   "source": [
    "df_1['f1'].describe()"
   ]
  },
  {
   "cell_type": "code",
   "execution_count": 27,
   "id": "40c64812",
   "metadata": {},
   "outputs": [
    {
     "data": {
      "image/png": "[encoded data removed]",
      "text/plain": [
       "<Figure size 648x504 with 1 Axes>"
      ]
     },
     "metadata": {
      "needs_background": "light"
     },
     "output_type": "display_data"
    }
   ],
   "source": [
    "fig, ax = plt.subplots(figsize=(9, 7))\n",
    "ax.hist(df_1['f1'], bins=70, color='g')\n",
    "ax.set_title('Гистограмма первого признака', fontdict = {'fontsize': 20})\n",
    "ax.set_xlabel('Показатель', fontdict = {'fontsize': 17})\n",
    "ax.set_ylabel('Количество скважин', fontdict = {'fontsize': 17})\n",
    "ax.grid()\n",
    "plt.show()"
   ]
  },
  {
   "cell_type": "code",
   "execution_count": 28,
   "id": "0373d468",
   "metadata": {},
   "outputs": [
    {
     "data": {
      "text/plain": [
       "count    99996.000000\n",
       "mean         2.494501\n",
       "std          1.703579\n",
       "min         -0.018144\n",
       "25%          1.000021\n",
       "50%          2.011475\n",
       "75%          3.999904\n",
       "max          5.019721\n",
       "Name: f2, dtype: float64"
      ]
     },
     "execution_count": 28,
     "metadata": {},
     "output_type": "execute_result"
    }
   ],
   "source": [
    "df_1['f2'].describe()"
   ]
  },
  {
   "cell_type": "markdown",
   "id": "2090f2f8",
   "metadata": {},
   "source": [
    "Первый признак распределен нормально и это не может не радовать :)"
   ]
  },
  {
   "cell_type": "code",
   "execution_count": 29,
   "id": "16aa82b3",
   "metadata": {},
   "outputs": [
    {
     "data": {
      "image/png": "[encoded data removed]",
      "text/plain": [
       "<Figure size 648x504 with 1 Axes>"
      ]
     },
     "metadata": {
      "needs_background": "light"
     },
     "output_type": "display_data"
    }
   ],
   "source": [
    "fig, ax = plt.subplots(figsize=(9, 7))\n",
    "ax.hist(df_1['f2'], bins=70, color='g')\n",
    "ax.set_title('Гистограмма второго признака', fontdict = {'fontsize': 20})\n",
    "ax.set_xlabel('Показатель', fontdict = {'fontsize': 17})\n",
    "ax.set_ylabel('Количество скважин', fontdict = {'fontsize': 17})\n",
    "ax.grid()\n",
    "plt.show()"
   ]
  },
  {
   "cell_type": "markdown",
   "id": "00f0f4ed",
   "metadata": {},
   "source": [
    "Необычное явление встречается здесь, во втором признаке. Мы имеем всего 12 уникальных значений признака и это тоже уникально, ведь на других месторождениях такого не встречается, возможно кто-то группировал значения, это стоит выяснить у того кто дал эти данные, они весьма странные. "
   ]
  },
  {
   "cell_type": "code",
   "execution_count": 30,
   "id": "953f26d2",
   "metadata": {},
   "outputs": [
    {
     "data": {
      "text/plain": [
       "12"
      ]
     },
     "execution_count": 30,
     "metadata": {},
     "output_type": "execute_result"
    }
   ],
   "source": [
    "df_1['product'].nunique()"
   ]
  },
  {
   "cell_type": "code",
   "execution_count": 31,
   "id": "84d882c2",
   "metadata": {},
   "outputs": [
    {
     "data": {
      "text/plain": [
       "array([  3.17910258,  26.95326103, 134.76630516, 137.94540774,\n",
       "        84.03888568, 110.99214671,  53.90652206,   0.        ,\n",
       "       107.81304413,  57.08562465,  30.13236361,  80.85978309])"
      ]
     },
     "execution_count": 31,
     "metadata": {},
     "output_type": "execute_result"
    }
   ],
   "source": [
    "df_1['product'].unique()"
   ]
  },
  {
   "cell_type": "code",
   "execution_count": 32,
   "id": "b4506276",
   "metadata": {},
   "outputs": [
    {
     "data": {
      "text/plain": [
       "count    99996.000000\n",
       "mean        68.823916\n",
       "std         45.944663\n",
       "min          0.000000\n",
       "25%         26.953261\n",
       "50%         57.085625\n",
       "75%        107.813044\n",
       "max        137.945408\n",
       "Name: product, dtype: float64"
      ]
     },
     "execution_count": 32,
     "metadata": {},
     "output_type": "execute_result"
    }
   ],
   "source": [
    "df_1['product'].describe()"
   ]
  },
  {
   "cell_type": "code",
   "execution_count": 33,
   "id": "a224b356",
   "metadata": {},
   "outputs": [
    {
     "data": {
      "image/png": "[encoded data removed]",
      "text/plain": [
       "<Figure size 648x504 with 1 Axes>"
      ]
     },
     "metadata": {
      "needs_background": "light"
     },
     "output_type": "display_data"
    }
   ],
   "source": [
    "fig, ax = plt.subplots(figsize=(9, 7))\n",
    "ax.hist(df_1['product'], bins=77, color='g')\n",
    "ax.set_title('Гистограмма целевого признака', fontdict = {'fontsize': 20})\n",
    "ax.set_xlabel('Показатель', fontdict = {'fontsize': 17})\n",
    "ax.set_ylabel('Количество скважин', fontdict = {'fontsize': 17})\n",
    "ax.grid()\n",
    "plt.show()"
   ]
  },
  {
   "cell_type": "code",
   "execution_count": 34,
   "id": "4b853e7f",
   "metadata": {},
   "outputs": [
    {
     "data": {
      "text/plain": [
       "<AxesSubplot:>"
      ]
     },
     "execution_count": 34,
     "metadata": {},
     "output_type": "execute_result"
    },
    {
     "data": {
      "image/png": "[encoded data removed]",
      "text/plain": [
       "<Figure size 648x504 with 2 Axes>"
      ]
     },
     "metadata": {
      "needs_background": "light"
     },
     "output_type": "display_data"
    }
   ],
   "source": [
    "corr_1 = df_1.corr() \n",
    "\n",
    "\n",
    "fig, ax = plt.subplots(figsize=(9, 7))\n",
    "sns.heatmap(corr_1, square=True, annot=True, linewidths=1.2, linecolor='g')"
   ]
  },
  {
   "cell_type": "markdown",
   "id": "da02099c",
   "metadata": {},
   "source": [
    "Это месторождение очень необычно. Значение объемов нефти коррелирует со вторым признаком на единицу (линейная зависимость). Либо это ошибка в данных, либо новый способ сбора данных, необходимо уточнить эту информацию у владельца."
   ]
  },
  {
   "cell_type": "markdown",
   "id": "b22be344",
   "metadata": {},
   "source": [
    "### Третий регион"
   ]
  },
  {
   "cell_type": "code",
   "execution_count": 35,
   "id": "470ef308",
   "metadata": {},
   "outputs": [
    {
     "name": "stdout",
     "output_type": "stream",
     "text": [
      "<class 'pandas.core.frame.DataFrame'>\n",
      "RangeIndex: 100000 entries, 0 to 99999\n",
      "Data columns (total 5 columns):\n",
      " #   Column   Non-Null Count   Dtype  \n",
      "---  ------   --------------   -----  \n",
      " 0   id       100000 non-null  object \n",
      " 1   f0       100000 non-null  float64\n",
      " 2   f1       100000 non-null  float64\n",
      " 3   f2       100000 non-null  float64\n",
      " 4   product  100000 non-null  float64\n",
      "dtypes: float64(4), object(1)\n",
      "memory usage: 3.8+ MB\n"
     ]
    }
   ],
   "source": [
    "df_2.info()"
   ]
  },
  {
   "cell_type": "markdown",
   "id": "b2fd0cb4",
   "metadata": {},
   "source": [
    "Пропусков не наблюдаем, типы данных в порядке"
   ]
  },
  {
   "cell_type": "code",
   "execution_count": 36,
   "id": "2696f9ed",
   "metadata": {},
   "outputs": [
    {
     "data": {
      "text/plain": [
       "99996"
      ]
     },
     "execution_count": 36,
     "metadata": {},
     "output_type": "execute_result"
    }
   ],
   "source": [
    "df_2['id'].nunique()"
   ]
  },
  {
   "cell_type": "markdown",
   "id": "b4c2e6f6",
   "metadata": {},
   "source": [
    "В столбце id наблюдаем явные дубликаты удалим их."
   ]
  },
  {
   "cell_type": "code",
   "execution_count": 37,
   "id": "a5bbd611",
   "metadata": {},
   "outputs": [],
   "source": [
    "df_2['id'] = df_2['id'].drop_duplicates()\n",
    "df_2 = df_2.dropna().reset_index(drop=True)"
   ]
  },
  {
   "cell_type": "code",
   "execution_count": 38,
   "id": "385e333c",
   "metadata": {},
   "outputs": [
    {
     "data": {
      "text/html": [
       "<div>\n",
       "<style scoped>\n",
       "    .dataframe tbody tr th:only-of-type {\n",
       "        vertical-align: middle;\n",
       "    }\n",
       "\n",
       "    .dataframe tbody tr th {\n",
       "        vertical-align: top;\n",
       "    }\n",
       "\n",
       "    .dataframe thead th {\n",
       "        text-align: right;\n",
       "    }\n",
       "</style>\n",
       "<table border=\"1\" class=\"dataframe\">\n",
       "  <thead>\n",
       "    <tr style=\"text-align: right;\">\n",
       "      <th></th>\n",
       "      <th>id</th>\n",
       "      <th>f0</th>\n",
       "      <th>f1</th>\n",
       "      <th>f2</th>\n",
       "      <th>product</th>\n",
       "    </tr>\n",
       "  </thead>\n",
       "  <tbody>\n",
       "  </tbody>\n",
       "</table>\n",
       "</div>"
      ],
      "text/plain": [
       "Empty DataFrame\n",
       "Columns: [id, f0, f1, f2, product]\n",
       "Index: []"
      ]
     },
     "execution_count": 38,
     "metadata": {},
     "output_type": "execute_result"
    }
   ],
   "source": [
    "df_2.loc[df_2['id'].isna() == True]"
   ]
  },
  {
   "cell_type": "code",
   "execution_count": 39,
   "id": "6fcf9165",
   "metadata": {},
   "outputs": [
    {
     "data": {
      "text/plain": [
       "99996"
      ]
     },
     "execution_count": 39,
     "metadata": {},
     "output_type": "execute_result"
    }
   ],
   "source": [
    "df_2['id'].nunique()"
   ]
  },
  {
   "cell_type": "code",
   "execution_count": 40,
   "id": "c83dba65",
   "metadata": {},
   "outputs": [
    {
     "name": "stdout",
     "output_type": "stream",
     "text": [
      "<class 'pandas.core.frame.DataFrame'>\n",
      "RangeIndex: 99996 entries, 0 to 99995\n",
      "Data columns (total 5 columns):\n",
      " #   Column   Non-Null Count  Dtype  \n",
      "---  ------   --------------  -----  \n",
      " 0   id       99996 non-null  object \n",
      " 1   f0       99996 non-null  float64\n",
      " 2   f1       99996 non-null  float64\n",
      " 3   f2       99996 non-null  float64\n",
      " 4   product  99996 non-null  float64\n",
      "dtypes: float64(4), object(1)\n",
      "memory usage: 3.8+ MB\n"
     ]
    }
   ],
   "source": [
    "df_2.info()"
   ]
  },
  {
   "cell_type": "markdown",
   "id": "871f50e4",
   "metadata": {},
   "source": [
    "Дубликатов больше нет, теперь взглянем на наши признаки."
   ]
  },
  {
   "cell_type": "code",
   "execution_count": 41,
   "id": "175300d8",
   "metadata": {},
   "outputs": [
    {
     "data": {
      "text/plain": [
       "count    99996.000000\n",
       "mean         0.002002\n",
       "std          1.732052\n",
       "min         -8.760004\n",
       "25%         -1.162328\n",
       "50%          0.009424\n",
       "75%          1.158477\n",
       "max          7.238262\n",
       "Name: f0, dtype: float64"
      ]
     },
     "execution_count": 41,
     "metadata": {},
     "output_type": "execute_result"
    }
   ],
   "source": [
    "df_2['f0'].describe()"
   ]
  },
  {
   "cell_type": "code",
   "execution_count": 42,
   "id": "129e21e4",
   "metadata": {},
   "outputs": [
    {
     "data": {
      "image/png": "[encoded data removed]",
      "text/plain": [
       "<Figure size 648x504 with 1 Axes>"
      ]
     },
     "metadata": {
      "needs_background": "light"
     },
     "output_type": "display_data"
    }
   ],
   "source": [
    "fig, ax = plt.subplots(figsize=(9, 7))\n",
    "ax.hist(df_2['f0'], bins=70, color='g')\n",
    "ax.set_title('Гистограмма нулевого признака', fontdict = {'fontsize': 20})\n",
    "ax.set_xlabel('Показатель', fontdict = {'fontsize': 17})\n",
    "ax.set_ylabel('Количество скважин', fontdict = {'fontsize': 17})\n",
    "ax.grid()\n",
    "plt.show()"
   ]
  },
  {
   "cell_type": "markdown",
   "id": "9f33de1c",
   "metadata": {},
   "source": [
    "Нормальное распределение в нулевом признаке."
   ]
  },
  {
   "cell_type": "code",
   "execution_count": 43,
   "id": "a7dd197e",
   "metadata": {},
   "outputs": [
    {
     "data": {
      "text/plain": [
       "count    99996.000000\n",
       "mean        -0.002159\n",
       "std          1.730397\n",
       "min         -7.084020\n",
       "25%         -1.174841\n",
       "50%         -0.009661\n",
       "75%          1.163523\n",
       "max          7.844801\n",
       "Name: f1, dtype: float64"
      ]
     },
     "execution_count": 43,
     "metadata": {},
     "output_type": "execute_result"
    }
   ],
   "source": [
    "df_2['f1'].describe()"
   ]
  },
  {
   "cell_type": "code",
   "execution_count": 44,
   "id": "653cc690",
   "metadata": {},
   "outputs": [
    {
     "data": {
      "image/png": "[encoded data removed]",
      "text/plain": [
       "<Figure size 648x504 with 1 Axes>"
      ]
     },
     "metadata": {
      "needs_background": "light"
     },
     "output_type": "display_data"
    }
   ],
   "source": [
    "fig, ax = plt.subplots(figsize=(9, 7))\n",
    "ax.hist(df_2['f1'], bins=70, color='g')\n",
    "ax.set_title('Гистограмма первого признака', fontdict = {'fontsize': 20})\n",
    "ax.set_xlabel('Показатель', fontdict = {'fontsize': 17})\n",
    "ax.set_ylabel('Количество скважин', fontdict = {'fontsize': 17})\n",
    "ax.grid()\n",
    "plt.show()"
   ]
  },
  {
   "cell_type": "markdown",
   "id": "acd4e5d3",
   "metadata": {},
   "source": [
    "Также нормальное распределние второго признака."
   ]
  },
  {
   "cell_type": "code",
   "execution_count": 45,
   "id": "d1f14196",
   "metadata": {},
   "outputs": [
    {
     "data": {
      "text/plain": [
       "count    99996.000000\n",
       "mean         2.495084\n",
       "std          3.473482\n",
       "min        -11.970335\n",
       "25%          0.130269\n",
       "50%          2.484236\n",
       "75%          4.858720\n",
       "max         16.739402\n",
       "Name: f2, dtype: float64"
      ]
     },
     "execution_count": 45,
     "metadata": {},
     "output_type": "execute_result"
    }
   ],
   "source": [
    "df_2['f2'].describe()"
   ]
  },
  {
   "cell_type": "code",
   "execution_count": 46,
   "id": "40143bbe",
   "metadata": {},
   "outputs": [
    {
     "data": {
      "image/png": "[encoded data removed]",
      "text/plain": [
       "<Figure size 648x504 with 1 Axes>"
      ]
     },
     "metadata": {
      "needs_background": "light"
     },
     "output_type": "display_data"
    }
   ],
   "source": [
    "fig, ax = plt.subplots(figsize=(9, 7))\n",
    "ax.hist(df_2['f2'], bins=70, color='g')\n",
    "ax.set_title('Гистограмма второго признака', fontdict = {'fontsize': 20})\n",
    "ax.set_xlabel('Показатель', fontdict = {'fontsize': 17})\n",
    "ax.set_ylabel('Количество скважин', fontdict = {'fontsize': 17})\n",
    "ax.grid()\n",
    "plt.show()"
   ]
  },
  {
   "cell_type": "markdown",
   "id": "276a1700",
   "metadata": {},
   "source": [
    "И снова нормальное распределение, нормальные признаки на этом месторождении)"
   ]
  },
  {
   "cell_type": "code",
   "execution_count": 47,
   "id": "cf3e03cc",
   "metadata": {},
   "outputs": [
    {
     "data": {
      "text/plain": [
       "count    99996.000000\n",
       "mean        94.998342\n",
       "std         44.749573\n",
       "min          0.000000\n",
       "25%         59.450028\n",
       "50%         94.925026\n",
       "75%        130.586815\n",
       "max        190.029838\n",
       "Name: product, dtype: float64"
      ]
     },
     "execution_count": 47,
     "metadata": {},
     "output_type": "execute_result"
    }
   ],
   "source": [
    "df_2['product'].describe()"
   ]
  },
  {
   "cell_type": "code",
   "execution_count": 48,
   "id": "0c2cf29a",
   "metadata": {},
   "outputs": [
    {
     "data": {
      "image/png": "[encoded data removed]",
      "text/plain": [
       "<Figure size 648x504 with 1 Axes>"
      ]
     },
     "metadata": {
      "needs_background": "light"
     },
     "output_type": "display_data"
    }
   ],
   "source": [
    "fig, ax = plt.subplots(figsize=(9, 7))\n",
    "ax.hist(df_2['product'], bins=77, color='g')\n",
    "ax.set_title('Гистограмма целевого признака', fontdict = {'fontsize': 20})\n",
    "ax.set_xlabel('Показатель', fontdict = {'fontsize': 17})\n",
    "ax.set_ylabel('Количество скважин', fontdict = {'fontsize': 17})\n",
    "ax.grid()\n",
    "plt.show()"
   ]
  },
  {
   "cell_type": "code",
   "execution_count": 49,
   "id": "82359f13",
   "metadata": {},
   "outputs": [
    {
     "data": {
      "text/plain": [
       "<AxesSubplot:>"
      ]
     },
     "execution_count": 49,
     "metadata": {},
     "output_type": "execute_result"
    },
    {
     "data": {
      "image/png": "[encoded data removed]",
      "text/plain": [
       "<Figure size 648x504 with 2 Axes>"
      ]
     },
     "metadata": {
      "needs_background": "light"
     },
     "output_type": "display_data"
    }
   ],
   "source": [
    "corr_2 = df_2.corr() \n",
    "\n",
    "\n",
    "fig, ax = plt.subplots(figsize=(9, 7))\n",
    "sns.heatmap(corr_2, square=True, annot=True, linewidths=1.2, linecolor='g')"
   ]
  },
  {
   "cell_type": "markdown",
   "id": "7a5f2d5b",
   "metadata": {},
   "source": [
    "А вот распределение объемов нефти в скважинах похоже на распределение на первом месторождении. Лучшую корреляция целевого признака с признаком f2 - 0.45."
   ]
  },
  {
   "cell_type": "markdown",
   "id": "11b4bf30",
   "metadata": {},
   "source": [
    "## 2. Разбивка на выборки, масштабирование, обучение моделей "
   ]
  },
  {
   "cell_type": "markdown",
   "id": "a716f9a2",
   "metadata": {},
   "source": [
    "В фичах не буем использовать столбец id, не имеет смысла зря машину напрягать. Также будем сразу масштабировать признаки."
   ]
  },
  {
   "cell_type": "code",
   "execution_count": 50,
   "id": "70f90e43",
   "metadata": {},
   "outputs": [],
   "source": [
    "features_0 = df_0.drop(['id', 'product'], axis=1)"
   ]
  },
  {
   "cell_type": "code",
   "execution_count": 51,
   "id": "a5653998",
   "metadata": {},
   "outputs": [],
   "source": [
    "target_0 = df_0['product']"
   ]
  },
  {
   "cell_type": "code",
   "execution_count": 52,
   "id": "b6b65392",
   "metadata": {},
   "outputs": [],
   "source": [
    "scaler = StandardScaler()\n",
    "scaler.fit(features_0)\n",
    "features_0 = scaler.transform(features_0)"
   ]
  },
  {
   "cell_type": "code",
   "execution_count": 53,
   "id": "3c0356cb",
   "metadata": {},
   "outputs": [],
   "source": [
    "features_1 = df_1.drop(['id', 'product'], axis=1)"
   ]
  },
  {
   "cell_type": "code",
   "execution_count": 54,
   "id": "c0e11ada",
   "metadata": {},
   "outputs": [],
   "source": [
    "target_1 = df_1['product']"
   ]
  },
  {
   "cell_type": "code",
   "execution_count": 55,
   "id": "7c4577a7",
   "metadata": {},
   "outputs": [],
   "source": [
    "scaler = StandardScaler()\n",
    "scaler.fit(features_1)\n",
    "features_1 = scaler.transform(features_1)"
   ]
  },
  {
   "cell_type": "code",
   "execution_count": 56,
   "id": "9453341b",
   "metadata": {},
   "outputs": [],
   "source": [
    "features_2 = df_2.drop(['id', 'product'], axis=1)"
   ]
  },
  {
   "cell_type": "code",
   "execution_count": 57,
   "id": "d1f0af80",
   "metadata": {},
   "outputs": [],
   "source": [
    "target_2 = df_2['product']"
   ]
  },
  {
   "cell_type": "code",
   "execution_count": 58,
   "id": "e67f3ec4",
   "metadata": {},
   "outputs": [],
   "source": [
    "scaler = StandardScaler()\n",
    "scaler.fit(features_2)\n",
    "features_2 = scaler.transform(features_2)"
   ]
  },
  {
   "cell_type": "code",
   "execution_count": 59,
   "id": "142eade9",
   "metadata": {},
   "outputs": [],
   "source": [
    "features_train_0, features_valid_0, target_train_0, target_valid_0 = train_test_split(features_0, target_0, test_size=0.75, \n",
    "                                                                                      random_state=12345)"
   ]
  },
  {
   "cell_type": "code",
   "execution_count": 60,
   "id": "e4c55cfd",
   "metadata": {},
   "outputs": [],
   "source": [
    "features_train_1, features_valid_1, target_train_1, target_valid_1 = train_test_split(features_1, target_1, test_size=0.75, \n",
    "                                                                                      random_state=12345)"
   ]
  },
  {
   "cell_type": "code",
   "execution_count": 61,
   "id": "a959a952",
   "metadata": {},
   "outputs": [],
   "source": [
    "features_train_2, features_valid_2, target_train_2, target_valid_2 = train_test_split(features_2, target_2, test_size=0.75, \n",
    "                                                                                      random_state=12345)"
   ]
  },
  {
   "cell_type": "markdown",
   "id": "fa52dd76",
   "metadata": {},
   "source": [
    "<div class=\"alert alert-block alert-warning\">\n",
    "<b>Вопрос студента:</b> Подскажи, пожалуйста, как разбивать большое количество датасетов, применять цикл или есть какие-то методы или это делается вручную? В нашем случае всего 3 месторождения, но что если их 15? \n",
    "    Аналогичный вопрос и к обучению модели, заранее спасибо :)\n",
    "</div>"
   ]
  },
  {
   "cell_type": "markdown",
   "id": "f0c4a965",
   "metadata": {},
   "source": [
    "Далее обучим модели по трем месторождениям, определим средние запасы нефти и RMSE моделей. "
   ]
  },
  {
   "cell_type": "markdown",
   "id": "883c9f30",
   "metadata": {},
   "source": [
    "### Нулевое месторождение"
   ]
  },
  {
   "cell_type": "code",
   "execution_count": 62,
   "id": "4f2e57d0",
   "metadata": {},
   "outputs": [
    {
     "name": "stdout",
     "output_type": "stream",
     "text": [
      "Средний запас сырья: 93.04322234152541, RMSE модели: 37.76096375728274\n"
     ]
    }
   ],
   "source": [
    "model = LinearRegression()\n",
    "model.fit(features_train_0, target_train_0)\n",
    "pred_valid_0 = model.predict(features_valid_0)\n",
    "rmse_0 = float(mean_squared_error(target_valid_0, pred_valid_0, squared=False))\n",
    "print(f'Средний запас сырья: {pred_valid_0.mean()}, RMSE модели: {rmse_0}')"
   ]
  },
  {
   "cell_type": "markdown",
   "id": "572bf611",
   "metadata": {},
   "source": [
    "### Первое месторождение"
   ]
  },
  {
   "cell_type": "code",
   "execution_count": 63,
   "id": "a620ff6b",
   "metadata": {},
   "outputs": [
    {
     "name": "stdout",
     "output_type": "stream",
     "text": [
      "Средний запас сырья: 68.93732281732879, RMSE модели: 0.8899750346870832\n"
     ]
    }
   ],
   "source": [
    "model = LinearRegression()\n",
    "model.fit(features_train_1, target_train_1)\n",
    "pred_valid_1 = model.predict(features_valid_1)\n",
    "rmse_1 = mean_squared_error(target_valid_1, pred_valid_1, squared=False)\n",
    "print(f'Средний запас сырья: {pred_valid_1.mean()}, RMSE модели: {rmse_1}')"
   ]
  },
  {
   "cell_type": "markdown",
   "id": "f01e52df",
   "metadata": {},
   "source": [
    "### Второе месторождение"
   ]
  },
  {
   "cell_type": "code",
   "execution_count": 64,
   "id": "960889fd",
   "metadata": {},
   "outputs": [
    {
     "name": "stdout",
     "output_type": "stream",
     "text": [
      "Средний запас сырья: 94.91588775577388, RMSE модели: 40.00868686866533\n"
     ]
    }
   ],
   "source": [
    "model = LinearRegression()\n",
    "model.fit(features_train_2, target_train_2)\n",
    "pred_valid_2 = model.predict(features_valid_2)\n",
    "rmse_2 = mean_squared_error(target_valid_2, pred_valid_2, squared=False)\n",
    "print(f'Средний запас сырья: {pred_valid_2.mean()}, RMSE модели: {rmse_2}')"
   ]
  },
  {
   "cell_type": "markdown",
   "id": "2f919968",
   "metadata": {},
   "source": [
    "### Вывод"
   ]
  },
  {
   "cell_type": "markdown",
   "id": "541c3d36",
   "metadata": {},
   "source": [
    "Наблюдаем интересную картину: в нулевом и третьем месторождении средний запас нефти значительно выше, чем в первом: 93 и 95, однако и RMSE значительно выше: 38 и 40. В первом месторождении прогнозируемый средний запас нефти: 69 и RMSE меньше единицы (так происходит из-за линейной зависимости между целевым признаком и f2(Лучше было бы не использовать другие признаки, только f2)). Посмотрим на расчет рисков и прибыли через бутстрап и попробуем определить лучшее месторождение."
   ]
  },
  {
   "cell_type": "markdown",
   "id": "c403a3ed",
   "metadata": {},
   "source": [
    "## 3. Расчет необходимых значений "
   ]
  },
  {
   "cell_type": "markdown",
   "id": "08a29c27",
   "metadata": {},
   "source": [
    "Объем скважины для безубыточной добычи"
   ]
  },
  {
   "cell_type": "code",
   "execution_count": 65,
   "id": "efe33ce2",
   "metadata": {},
   "outputs": [
    {
     "name": "stdout",
     "output_type": "stream",
     "text": [
      "Объем скважины для безубыточной добычи: 111.11111111111111\n"
     ]
    }
   ],
   "source": [
    "price_of_work = 10 ** 10\n",
    "volume_enough = price_of_work/(200 * 450000)\n",
    "print(f'Объем скважины для безубыточной добычи: {volume_enough}') "
   ]
  },
  {
   "cell_type": "code",
   "execution_count": 66,
   "id": "4af9b985",
   "metadata": {},
   "outputs": [
    {
     "name": "stdout",
     "output_type": "stream",
     "text": [
      "Разница среднего запаса и необхоимого в нулевом регионе: -18.067888769585707\n",
      "Разница среднего запаса и необхоимого в первом регионе: -42.17378829378232\n",
      "Разница среднего запаса и необхоимого во втором регионе: -16.195223355337234\n"
     ]
    }
   ],
   "source": [
    "oil_difference_0 = pred_valid_0.mean() - volume_enough\n",
    "print(f'Разница среднего запаса и необхоимого в нулевом регионе: {oil_difference_0}')\n",
    "oil_difference_1 = pred_valid_1.mean() - volume_enough\n",
    "print(f'Разница среднего запаса и необхоимого в первом регионе: {oil_difference_1}')\n",
    "oil_difference_2 = pred_valid_2.mean() - volume_enough\n",
    "print(f'Разница среднего запаса и необхоимого во втором регионе: {oil_difference_2}')"
   ]
  },
  {
   "cell_type": "markdown",
   "id": "d72f6b3d",
   "metadata": {},
   "source": [
    "Смотря на значения требуемые для безубыточной добычи нефти видим, что ни один регион не является прибыльным, если бурить скважины \"методом тыка\". При этом первый регион самый убыточный. Посмотрим, что будет, если использовать прогноз и выбирать лучшие скважины."
   ]
  },
  {
   "cell_type": "markdown",
   "id": "ec126bab",
   "metadata": {},
   "source": [
    "## 4. Функции прибыли и bootstrap, расчет прибыли и рисков "
   ]
  },
  {
   "cell_type": "markdown",
   "id": "fee1ef74",
   "metadata": {},
   "source": [
    "Функция прибыли:"
   ]
  },
  {
   "cell_type": "code",
   "execution_count": 67,
   "id": "2f74a7b2",
   "metadata": {},
   "outputs": [],
   "source": [
    "def profit(pred_valid, target_valid):\n",
    "    best_pred = pred_valid.sort_values(ascending=False)\n",
    "    best_target_valid = target_valid[best_pred.index][:200]\n",
    "    revenue = best_target_valid.sum() * 450000\n",
    "    return revenue - price_of_work\n",
    "    \n"
   ]
  },
  {
   "cell_type": "markdown",
   "id": "d88d0bcb",
   "metadata": {},
   "source": [
    "Функция бутстрапа для нахождения распределения прибыли, средней прибыли, доверительного интервала и уровня риска:"
   ]
  },
  {
   "cell_type": "code",
   "execution_count": 114,
   "id": "f226fd25",
   "metadata": {},
   "outputs": [],
   "source": [
    "\n",
    "\n",
    "def bootstrap_with_rmse(pred_valid, target_valid):\n",
    "    pred_valid = pd.Series(pred_valid)\n",
    "    target_valid = target_valid.reset_index(drop=True)\n",
    "    values = []\n",
    "    state = np.random.RandomState(12345)\n",
    "    for j in range(1000):\n",
    "        target_subsample = target_valid.sample(500, replace=True, random_state=state)\n",
    "        pred_subsample = pred_valid[target_subsample.index]\n",
    "        values.append(profit(pred_subsample, target_subsample))\n",
    "    values = pd.Series(values)\n",
    "    profit_mean = values.mean()\n",
    "    interval_95 = values.quantile(0.025) # Так как верхняя граница неважна, исользуем 2.5-тый квантиль\n",
    "    risk = st.percentileofscore(values, 0) \n",
    "    \n",
    "    fig, ax = plt.subplots(figsize=(10, 7))\n",
    "    ax.hist(values, bins=77, color='y')\n",
    "    ax.set_title('Распределение прибыли', fontdict = {'fontsize': 20})\n",
    "    ax.set_xlabel('Прибыль', fontdict = {'fontsize': 17})\n",
    "    ax.set_ylabel('Подвыборки', fontdict = {'fontsize': 17})\n",
    "    ax.grid()\n",
    "    plt.show()\n",
    "    \n",
    "    return profit_mean, interval_95, risk\n",
    "            \n",
    "            \n",
    "            "
   ]
  },
  {
   "cell_type": "markdown",
   "id": "9ccdc6b8",
   "metadata": {},
   "source": [
    "Нулевой регион"
   ]
  },
  {
   "cell_type": "code",
   "execution_count": 115,
   "id": "3f39e198",
   "metadata": {},
   "outputs": [
    {
     "data": {
      "image/png": "[encoded data removed]",
      "text/plain": [
       "<Figure size 720x504 with 1 Axes>"
      ]
     },
     "metadata": {
      "needs_background": "light"
     },
     "output_type": "display_data"
    },
    {
     "name": "stdout",
     "output_type": "stream",
     "text": [
      "Прибыль: 407353833.5457081, 95-ти процентный доверительный интервал: -126642275.46034993, процент риска: 7.0\n"
     ]
    }
   ],
   "source": [
    "profit_0, interval_0, risk_0 = bootstrap_with_rmse(pred_valid_0, target_valid_0)\n",
    "print(f'Прибыль: {profit_0}, 95-ти процентный доверительный интервал: {interval_0}, процент риска: {risk_0}')"
   ]
  },
  {
   "cell_type": "markdown",
   "id": "dbd0cf94",
   "metadata": {},
   "source": [
    "Первый регион"
   ]
  },
  {
   "cell_type": "code",
   "execution_count": 116,
   "id": "03092714",
   "metadata": {},
   "outputs": [
    {
     "data": {
      "image/png": "[encoded data removed]",
      "text/plain": [
       "<Figure size 720x504 with 1 Axes>"
      ]
     },
     "metadata": {
      "needs_background": "light"
     },
     "output_type": "display_data"
    },
    {
     "name": "stdout",
     "output_type": "stream",
     "text": [
      "Прибыль: 490352045.7587135, 95-ти процентный доверительный интервал: 79954125.64612204, процент риска: 1.0\n"
     ]
    }
   ],
   "source": [
    "profit_1, interval_1, risk_1 = bootstrap_with_rmse(pred_valid_1, target_valid_1)\n",
    "print(f'Прибыль: {profit_1}, 95-ти процентный доверительный интервал: {interval_1}, процент риска: {risk_1}')"
   ]
  },
  {
   "cell_type": "markdown",
   "id": "52cca473",
   "metadata": {},
   "source": [
    "Второй регион"
   ]
  },
  {
   "cell_type": "code",
   "execution_count": 117,
   "id": "bdba0bf2",
   "metadata": {},
   "outputs": [
    {
     "data": {
      "image/png": "[encoded data removed]",
      "text/plain": [
       "<Figure size 720x504 with 1 Axes>"
      ]
     },
     "metadata": {
      "needs_background": "light"
     },
     "output_type": "display_data"
    },
    {
     "name": "stdout",
     "output_type": "stream",
     "text": [
      "Прибыль: 382912787.1653851, 95-ти процентный доверительный интервал: -150767901.74538273, процент риска: 7.6\n"
     ]
    }
   ],
   "source": [
    "profit_2, interval_2, risk_2 = bootstrap_with_rmse(pred_valid_2, target_valid_2)\n",
    "print(f'Прибыль: {profit_2}, 95-ти процентный доверительный интервал: {interval_2}, процент риска: {risk_2}')"
   ]
  },
  {
   "cell_type": "markdown",
   "id": "bcc00ca6",
   "metadata": {},
   "source": [
    "### Вывод"
   ]
  },
  {
   "cell_type": "markdown",
   "id": "95e9dce3",
   "metadata": {},
   "source": [
    "Картина изменилась координально, так как наша функция учитывала RMSE (погрешность в целом), то мы получили очень интересные значения. Лучшим метсрождением стало первое: прибыль 490 млн, риск убытка всего 1 %, доверительный интервал положительный. В связи с большими рисками других месторождений, отбрасываем их.\n",
    "Так произошло из-за линейной зависимости целевого признака от признака f2 на первом месторождении, из-за маленькой ошибки маленький разброс, поэтому выделяя самые прибыльные 200 скважин получаем лучший средний результат и наименьший риск."
   ]
  },
  {
   "cell_type": "markdown",
   "id": "47172cb2",
   "metadata": {},
   "source": [
    "## 5. Вывод"
   ]
  },
  {
   "cell_type": "markdown",
   "id": "28860276",
   "metadata": {},
   "source": [
    "   В ходе данный работы были изучены данные трех месторождений. Перед работой с данными была произведена предобработка, проверены пропуски, типы данных, были устранены дубликаты. Разведочный анализ показал, что во всех признаках значения распределены в основном вокруг определенных величин, их количетсво варьируется от 4 до 1-ого (в случае с одним пиком распределение похоже на нормальное). Количество запасов нефти распределено аналогично с большим количеством \"зубьев\". Однако необычная картина наблюдается в первом регионе: это месторождение очень необычно. Значение объемов нефти коррелирует со вторым признаком на единицу (линейная зависимость). Либо это ошибка в данных, либо новый способ сбора данных, необходимо уточнить эту информацию у владельца. К тому же  во втором признаке мы имеем всего 12 уникальных значений признака и это тоже уникально, ведь на других месторождениях такого не встречается, возможно кто-то группировал значения, это стоит выяснить у того кто дал эти данные, они весьма странные.\n",
    "        Далее была произведена разбивка данных на выборки для обучения моделей, масштабирование признаков и обучение тех саммых моделей. В нулевом и третьем месторождении средний запас нефти значительно выше, чем в первом: 93 и 95, однако и RMSE значительно выше: 38 и 40. В первом месторождении прогнозируемый средний запас нефти: 69 и RMSE меньше единицы (так происходит из-за линейной зависимости между целевым признаком и f2).\n",
    "        Смотря на значения требуемые для безубыточной добычи нефти видим, что ни один регион не является прибыльным, если бурить скважины \"методом тыка\". При этом первый регион самый убыточный. Причем нулевой и второй регионы показывают лучший результат: -18 и 16, в отличие от первого со значением: -42.\n",
    "        При использовании бутстрапа картина изменилась координально, так как наша функция учитывала RMSE (погрешность в целом), то мы получили очень интересные значения. Лучшим метсрождением стало первое: прибыль 490 млн, риск убытка всего 1 %, доверительный интервал положительный. В связи с большими рисками других месторождений, отбрасываем их. Так произошло из-за линейной зависимости целевого признака от признака f2 на первом месторождении, из-за маленькой ошибки маленький разброс, поэтому выделяя самые прибыльные 200 скважин получаем лучший средний результат и наименьший риск.\n",
    "        Вот так при использовании бутстрапа мы получили неожиданный ответ: лучшее месторождение первое. И все это несмотря на то, что средние показатели нулевого и второго региона значительно выше и их убыточность исходя из среднего также выше. Однако стоит проверить данные по первому региону, ведь они значительно отличаются от аналогичных по нулевому и второму месторождениям."
   ]
  }
 ],
 "metadata": {
  "kernelspec": {
   "display_name": "Python 3",
   "language": "python",
   "name": "python3"
  },
  "language_info": {
   "codemirror_mode": {
    "name": "ipython",
    "version": 3
   },
   "file_extension": ".py",
   "mimetype": "text/x-python",
   "name": "python",
   "nbconvert_exporter": "python",
   "pygments_lexer": "ipython3",
   "version": "3.8.8"
  }
 },
 "nbformat": 4,
 "nbformat_minor": 5
}
